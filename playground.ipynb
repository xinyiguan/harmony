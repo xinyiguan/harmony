{
 "cells": [
  {
   "cell_type": "code",
   "execution_count": 1,
   "metadata": {
    "collapsed": true
   },
   "outputs": [],
   "source": [
    "import dimcat"
   ]
  },
  {
   "cell_type": "code",
   "execution_count": 2,
   "outputs": [
    {
     "data": {
      "text/plain": "221 files.\nKEY             -> EXTENSIONS\n-----------------------------\nchopin_mazurkas -> {'.mscx': 55, '.tsv': 166}\n\nNone of the 55 score files have been parsed.\n\nAll 166 tabular files have been parsed, 55 of them as Annotations object(s).\nKEY             -> ANNOTATION LAYERS\n------------------------------------\nchopin_mazurkas -> staff  voice  harmony_layer  color  \n                -> 2      1      1 (dcml)       default    9132\n                ->        2      1 (dcml)       default       1"
     },
     "execution_count": 2,
     "metadata": {},
     "output_type": "execute_result"
    }
   ],
   "source": [
    "corpus_path = 'romantic_piano_corpus/chopin_mazurkas/'\n",
    "\n",
    "corpus = dimcat.data.Corpus()\n",
    "corpus.load(directory=[corpus_path])\n",
    "corpus.data"
   ],
   "metadata": {
    "collapsed": false
   }
  },
  {
   "cell_type": "code",
   "execution_count": null,
   "outputs": [],
   "source": [],
   "metadata": {
    "collapsed": false
   }
  },
  {
   "cell_type": "code",
   "execution_count": null,
   "outputs": [],
   "source": [],
   "metadata": {
    "collapsed": false
   }
  },
  {
   "cell_type": "code",
   "execution_count": 6,
   "outputs": [
    {
     "data": {
      "text/plain": "[1837,\n 1837,\n 1837,\n 1838,\n 1838,\n 1838,\n 1838,\n 1838,\n 1838,\n 1839,\n 1839,\n 1839,\n 1840,\n 1841,\n 1842,\n 1842,\n 1843,\n 1843,\n 1843,\n 1845,\n 1845,\n 1845,\n 1826,\n 1826,\n 1846,\n 1846,\n 1846,\n 1846,\n 1849,\n 1849,\n 1827,\n 1829,\n 1829,\n 1830,\n 1830,\n 1830,\n 1830,\n 1831,\n 1831,\n 1831,\n 1831,\n 1831,\n 1832,\n 1832,\n 1832,\n 1832,\n 1832,\n 1832,\n 1834,\n 1835,\n 1835,\n 1835,\n 1835,\n 1835,\n 1835]"
     },
     "execution_count": 6,
     "metadata": {},
     "output_type": "execute_result"
    }
   ],
   "source": [
    "corpus.data.metadata(from_tsv=True).composed_end.to_list()"
   ],
   "metadata": {
    "collapsed": false
   }
  },
  {
   "cell_type": "code",
   "execution_count": null,
   "outputs": [],
   "source": [],
   "metadata": {
    "collapsed": false
   }
  }
 ],
 "metadata": {
  "kernelspec": {
   "display_name": "Python 3",
   "language": "python",
   "name": "python3"
  },
  "language_info": {
   "codemirror_mode": {
    "name": "ipython",
    "version": 2
   },
   "file_extension": ".py",
   "mimetype": "text/x-python",
   "name": "python",
   "nbconvert_exporter": "python",
   "pygments_lexer": "ipython2",
   "version": "2.7.6"
  }
 },
 "nbformat": 4,
 "nbformat_minor": 0
}
